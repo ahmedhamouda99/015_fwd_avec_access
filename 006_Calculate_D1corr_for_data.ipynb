{
 "cells": [
  {
   "cell_type": "code",
   "execution_count": 11,
   "id": "911f0d42-e65f-4306-82df-62c686c987b3",
   "metadata": {},
   "outputs": [],
   "source": [
    "import pandas as pd"
   ]
  },
  {
   "cell_type": "code",
   "execution_count": 13,
   "id": "a6827a85-10e5-48aa-995f-fc35552ac007",
   "metadata": {},
   "outputs": [],
   "source": [
    "data = pd.read_csv (r\"C:\\Users\\Khaled Ahmed\\Desktop\\fwd_data_ASH.csv\")"
   ]
  },
  {
   "cell_type": "code",
   "execution_count": 15,
   "id": "cb3df08d-a00c-4609-8187-6cd72078cd8c",
   "metadata": {},
   "outputs": [
    {
     "data": {
      "text/plain": [
       "Index(['full_file_name', 'file_name', 'batch', 'survey_type', 'GIS_OBJECT',\n",
       "       'TYPE_CD', 'ROAD', 'DIRECTION', 'LANE_NO', 'FROM_KP', 'TO_KP',\n",
       "       'chainage', 'point_no', 'drop_no', 'stress', 'LOAD', 'D1', 'D2', 'D3',\n",
       "       'D4', 'D5', 'D6', 'D7', 'D8', 'D9', 'temp_ac', 'temp_air', 'temp_surf',\n",
       "       'survey_date', 'latitude', 'longitude', 'height', 'H1', 'H2', 'H3',\n",
       "       'H4', 'GPR_H1', 'GPR_H2', 'GPR_H3', 'GPR_H4', 'GPR_H5', 'GPR_Total',\n",
       "       'METHOD', 'Temperature', 'D1_CORR_1', ' D1_CORR_2', ' D1_CORR',\n",
       "       ' D1_CHECK', ' RMS_CHECK', 'E1', 'e1_ref', 'E2', 'E3', 'E4', 'E5',\n",
       "       'RMS'],\n",
       "      dtype='object')"
      ]
     },
     "execution_count": 15,
     "metadata": {},
     "output_type": "execute_result"
    }
   ],
   "source": [
    "data.columns"
   ]
  },
  {
   "cell_type": "code",
   "execution_count": 33,
   "id": "02bc052b-7536-4dbe-b93c-36e04554b4e8",
   "metadata": {},
   "outputs": [],
   "source": [
    "import numpy as np\n",
    "alpha = 0.0126843202700387\n",
    "ref_temp = 20\n",
    "for index in data.index:\n",
    "    data.loc [index, 'D1_CORR_1'] = data.loc [index, 'D1'] * np.exp (alpha * (ref_temp  - data.loc [index, 'Temperature']))\n",
    "    data.loc [index, 'D1_CORR_2'] = (0.9834*data.loc [index, 'D1_CORR_1'])-0.7718\n",
    "    data.loc [index, 'D1_CORR'] = data.loc [index, ['D1_CORR_1','D1_CORR_2']].mean()\n"
   ]
  },
  {
   "cell_type": "code",
   "execution_count": 36,
   "id": "a5755ee9-5152-4220-bab7-b4d70260f4b9",
   "metadata": {},
   "outputs": [],
   "source": [
    "data.to_csv (r\"C:\\Users\\Khaled Ahmed\\Desktop\\fwd_data_ASH_1.csv\")"
   ]
  },
  {
   "cell_type": "markdown",
   "id": "152b582d-29dc-46e8-bb8a-7092f08a514d",
   "metadata": {},
   "source": [
    "# DRAFT"
   ]
  },
  {
   "cell_type": "code",
   "execution_count": 25,
   "id": "4eff1104-c426-49ab-b5b4-08223db150f5",
   "metadata": {},
   "outputs": [],
   "source": [
    "data2 = pd.read_csv (r\"C:\\Users\\Khaled Ahmed\\Desktop\\fwd_data_part_a.csv\")"
   ]
  },
  {
   "cell_type": "code",
   "execution_count": 27,
   "id": "f0c916d2-db2d-408b-a843-b54ffbfe52a1",
   "metadata": {},
   "outputs": [
    {
     "data": {
      "text/plain": [
       "Index(['file_name_general', 'file_name', 'batch_no', 'survey_type',\n",
       "       'gis_object', 'type_cd', 'road_no', 'dir_cd', 'lane_position',\n",
       "       'start_kp', 'end_kp', 'site_chainage', 'pointno', 'dropno',\n",
       "       'stress_value', 'load_value', 'd1', 'd2', 'd3', 'd4', 'd5', 'd6', 'd7',\n",
       "       'd8', 'd9', 'temp_ac', 'temp_air', 'temp_surf', 'date_survey',\n",
       "       'latitude', 'longitude', 'height', 'h1', 'h2', 'h3', 'h4', 'gpr_h1',\n",
       "       'gpr_h2', 'gpr_h3', 'gpr_h4', 'gpr_h5', 'gpr_total', 'method_used',\n",
       "       'd1_corr1', 'd1_corr2', 'd1_corr', 'd1_check', 'rms_check', 'e1',\n",
       "       'e1_ref', 'e2', 'e3', 'e4', 'e5', 'rms_value', 'part_no'],\n",
       "      dtype='object')"
      ]
     },
     "execution_count": 27,
     "metadata": {},
     "output_type": "execute_result"
    }
   ],
   "source": [
    "data2.columns"
   ]
  },
  {
   "cell_type": "code",
   "execution_count": 29,
   "id": "2df4eb56-1d60-4cbb-ad0e-e13371a0205f",
   "metadata": {},
   "outputs": [],
   "source": [
    "import numpy as np\n",
    "alpha = 0.0126843202700387\n",
    "ref_temp = 20\n",
    "data2['trial']= None\n",
    "for index in data2.index:\n",
    "    data2.at [index, 'trial'] = data2.loc [index, 'd1'] * np.exp (alpha * (ref_temp  - data2.loc [index, 'temp_ac']))"
   ]
  },
  {
   "cell_type": "code",
   "execution_count": 31,
   "id": "6bfbc19c-6341-46d1-a000-fbdedf548bb5",
   "metadata": {},
   "outputs": [
    {
     "data": {
      "text/html": [
       "<div>\n",
       "<style scoped>\n",
       "    .dataframe tbody tr th:only-of-type {\n",
       "        vertical-align: middle;\n",
       "    }\n",
       "\n",
       "    .dataframe tbody tr th {\n",
       "        vertical-align: top;\n",
       "    }\n",
       "\n",
       "    .dataframe thead th {\n",
       "        text-align: right;\n",
       "    }\n",
       "</style>\n",
       "<table border=\"1\" class=\"dataframe\">\n",
       "  <thead>\n",
       "    <tr style=\"text-align: right;\">\n",
       "      <th></th>\n",
       "      <th>d1_corr1</th>\n",
       "      <th>trial</th>\n",
       "    </tr>\n",
       "  </thead>\n",
       "  <tbody>\n",
       "    <tr>\n",
       "      <th>0</th>\n",
       "      <td>210</td>\n",
       "      <td>213.149982</td>\n",
       "    </tr>\n",
       "    <tr>\n",
       "      <th>1</th>\n",
       "      <td>171</td>\n",
       "      <td>173.395819</td>\n",
       "    </tr>\n",
       "    <tr>\n",
       "      <th>2</th>\n",
       "      <td>349</td>\n",
       "      <td>353.558304</td>\n",
       "    </tr>\n",
       "    <tr>\n",
       "      <th>3</th>\n",
       "      <td>239</td>\n",
       "      <td>242.754146</td>\n",
       "    </tr>\n",
       "    <tr>\n",
       "      <th>4</th>\n",
       "      <td>471</td>\n",
       "      <td>477.895794</td>\n",
       "    </tr>\n",
       "    <tr>\n",
       "      <th>...</th>\n",
       "      <td>...</td>\n",
       "      <td>...</td>\n",
       "    </tr>\n",
       "    <tr>\n",
       "      <th>19966</th>\n",
       "      <td>309</td>\n",
       "      <td>313.515944</td>\n",
       "    </tr>\n",
       "    <tr>\n",
       "      <th>19967</th>\n",
       "      <td>120</td>\n",
       "      <td>121.069558</td>\n",
       "    </tr>\n",
       "    <tr>\n",
       "      <th>19968</th>\n",
       "      <td>408</td>\n",
       "      <td>412.901402</td>\n",
       "    </tr>\n",
       "    <tr>\n",
       "      <th>19969</th>\n",
       "      <td>238</td>\n",
       "      <td>241.235611</td>\n",
       "    </tr>\n",
       "    <tr>\n",
       "      <th>19970</th>\n",
       "      <td>642</td>\n",
       "      <td>650.352712</td>\n",
       "    </tr>\n",
       "  </tbody>\n",
       "</table>\n",
       "<p>19971 rows × 2 columns</p>\n",
       "</div>"
      ],
      "text/plain": [
       "       d1_corr1       trial\n",
       "0           210  213.149982\n",
       "1           171  173.395819\n",
       "2           349  353.558304\n",
       "3           239  242.754146\n",
       "4           471  477.895794\n",
       "...         ...         ...\n",
       "19966       309  313.515944\n",
       "19967       120  121.069558\n",
       "19968       408  412.901402\n",
       "19969       238  241.235611\n",
       "19970       642  650.352712\n",
       "\n",
       "[19971 rows x 2 columns]"
      ]
     },
     "execution_count": 31,
     "metadata": {},
     "output_type": "execute_result"
    }
   ],
   "source": [
    "data2 [['d1_corr1', 'trial']]"
   ]
  },
  {
   "cell_type": "code",
   "execution_count": null,
   "id": "ac48aec2-7143-474e-baf2-42c597b99f77",
   "metadata": {},
   "outputs": [],
   "source": []
  }
 ],
 "metadata": {
  "kernelspec": {
   "display_name": "Python 3 (ipykernel)",
   "language": "python",
   "name": "python3"
  },
  "language_info": {
   "codemirror_mode": {
    "name": "ipython",
    "version": 3
   },
   "file_extension": ".py",
   "mimetype": "text/x-python",
   "name": "python",
   "nbconvert_exporter": "python",
   "pygments_lexer": "ipython3",
   "version": "3.12.4"
  }
 },
 "nbformat": 4,
 "nbformat_minor": 5
}
