{
 "cells": [
  {
   "cell_type": "code",
   "execution_count": 1,
   "id": "140e2bc9-91f7-4735-acfe-abd6115644e7",
   "metadata": {},
   "outputs": [],
   "source": [
    "from scipy.optimize import curve_fit\n",
    "import pandas as pd\n",
    "import numpy as np\n",
    "import matplotlib.pyplot as plt"
   ]
  },
  {
   "cell_type": "code",
   "execution_count": 3,
   "id": "562440ea-f4df-4056-a5e0-3ed833803617",
   "metadata": {},
   "outputs": [],
   "source": [
    "data = pd.read_excel (r\"C:\\Users\\Khaled Ahmed\\Desktop\\deflection_vs_temperature.xlsx\")"
   ]
  },
  {
   "cell_type": "code",
   "execution_count": 7,
   "id": "a3a9f8a1-927a-4f04-99a1-15c40c8e6868",
   "metadata": {},
   "outputs": [
    {
     "data": {
      "text/html": [
       "<div>\n",
       "<style scoped>\n",
       "    .dataframe tbody tr th:only-of-type {\n",
       "        vertical-align: middle;\n",
       "    }\n",
       "\n",
       "    .dataframe tbody tr th {\n",
       "        vertical-align: top;\n",
       "    }\n",
       "\n",
       "    .dataframe thead th {\n",
       "        text-align: right;\n",
       "    }\n",
       "</style>\n",
       "<table border=\"1\" class=\"dataframe\">\n",
       "  <thead>\n",
       "    <tr style=\"text-align: right;\">\n",
       "      <th></th>\n",
       "      <th>d1</th>\n",
       "      <th>temp_ac</th>\n",
       "      <th>d1_corr1</th>\n",
       "      <th>d1_corr2</th>\n",
       "      <th>d1_corr</th>\n",
       "    </tr>\n",
       "  </thead>\n",
       "  <tbody>\n",
       "    <tr>\n",
       "      <th>17481</th>\n",
       "      <td>8</td>\n",
       "      <td>21.0</td>\n",
       "      <td>8</td>\n",
       "      <td>8</td>\n",
       "      <td>8</td>\n",
       "    </tr>\n",
       "    <tr>\n",
       "      <th>17533</th>\n",
       "      <td>13</td>\n",
       "      <td>27.0</td>\n",
       "      <td>11</td>\n",
       "      <td>11</td>\n",
       "      <td>11</td>\n",
       "    </tr>\n",
       "    <tr>\n",
       "      <th>19369</th>\n",
       "      <td>14</td>\n",
       "      <td>24.3</td>\n",
       "      <td>13</td>\n",
       "      <td>13</td>\n",
       "      <td>13</td>\n",
       "    </tr>\n",
       "    <tr>\n",
       "      <th>18466</th>\n",
       "      <td>15</td>\n",
       "      <td>24.0</td>\n",
       "      <td>14</td>\n",
       "      <td>14</td>\n",
       "      <td>14</td>\n",
       "    </tr>\n",
       "    <tr>\n",
       "      <th>18509</th>\n",
       "      <td>17</td>\n",
       "      <td>23.0</td>\n",
       "      <td>17</td>\n",
       "      <td>16</td>\n",
       "      <td>17</td>\n",
       "    </tr>\n",
       "    <tr>\n",
       "      <th>...</th>\n",
       "      <td>...</td>\n",
       "      <td>...</td>\n",
       "      <td>...</td>\n",
       "      <td>...</td>\n",
       "      <td>...</td>\n",
       "    </tr>\n",
       "    <tr>\n",
       "      <th>6450</th>\n",
       "      <td>1641</td>\n",
       "      <td>33.2</td>\n",
       "      <td>1370</td>\n",
       "      <td>1343</td>\n",
       "      <td>1357</td>\n",
       "    </tr>\n",
       "    <tr>\n",
       "      <th>3699</th>\n",
       "      <td>1683</td>\n",
       "      <td>45.0</td>\n",
       "      <td>1224</td>\n",
       "      <td>1185</td>\n",
       "      <td>1204</td>\n",
       "    </tr>\n",
       "    <tr>\n",
       "      <th>3217</th>\n",
       "      <td>1757</td>\n",
       "      <td>44.0</td>\n",
       "      <td>1292</td>\n",
       "      <td>1252</td>\n",
       "      <td>1272</td>\n",
       "    </tr>\n",
       "    <tr>\n",
       "      <th>3697</th>\n",
       "      <td>1860</td>\n",
       "      <td>45.0</td>\n",
       "      <td>1353</td>\n",
       "      <td>1310</td>\n",
       "      <td>1331</td>\n",
       "    </tr>\n",
       "    <tr>\n",
       "      <th>16894</th>\n",
       "      <td>2032</td>\n",
       "      <td>25.3</td>\n",
       "      <td>1883</td>\n",
       "      <td>1873</td>\n",
       "      <td>1878</td>\n",
       "    </tr>\n",
       "  </tbody>\n",
       "</table>\n",
       "<p>19971 rows × 5 columns</p>\n",
       "</div>"
      ],
      "text/plain": [
       "         d1  temp_ac  d1_corr1  d1_corr2  d1_corr\n",
       "17481     8     21.0         8         8        8\n",
       "17533    13     27.0        11        11       11\n",
       "19369    14     24.3        13        13       13\n",
       "18466    15     24.0        14        14       14\n",
       "18509    17     23.0        17        16       17\n",
       "...     ...      ...       ...       ...      ...\n",
       "6450   1641     33.2      1370      1343     1357\n",
       "3699   1683     45.0      1224      1185     1204\n",
       "3217   1757     44.0      1292      1252     1272\n",
       "3697   1860     45.0      1353      1310     1331\n",
       "16894  2032     25.3      1883      1873     1878\n",
       "\n",
       "[19971 rows x 5 columns]"
      ]
     },
     "execution_count": 7,
     "metadata": {},
     "output_type": "execute_result"
    }
   ],
   "source": [
    "data.sort_values (by = \"d1\")"
   ]
  },
  {
   "cell_type": "code",
   "execution_count": 9,
   "id": "0fbbfd6e-851e-48b9-8d1e-ee0f50fc3b05",
   "metadata": {},
   "outputs": [],
   "source": [
    "data1 = data.sort_values (by = \"d1\")"
   ]
  },
  {
   "cell_type": "code",
   "execution_count": 13,
   "id": "1348cec6-087a-4892-9d8f-9e5cde34866d",
   "metadata": {},
   "outputs": [
    {
     "data": {
      "text/html": [
       "<div>\n",
       "<style scoped>\n",
       "    .dataframe tbody tr th:only-of-type {\n",
       "        vertical-align: middle;\n",
       "    }\n",
       "\n",
       "    .dataframe tbody tr th {\n",
       "        vertical-align: top;\n",
       "    }\n",
       "\n",
       "    .dataframe thead th {\n",
       "        text-align: right;\n",
       "    }\n",
       "</style>\n",
       "<table border=\"1\" class=\"dataframe\">\n",
       "  <thead>\n",
       "    <tr style=\"text-align: right;\">\n",
       "      <th></th>\n",
       "      <th>d1</th>\n",
       "      <th>temp_ac</th>\n",
       "      <th>d1_corr1</th>\n",
       "      <th>d1_corr2</th>\n",
       "      <th>d1_corr</th>\n",
       "    </tr>\n",
       "  </thead>\n",
       "  <tbody>\n",
       "    <tr>\n",
       "      <th>0</th>\n",
       "      <td>8</td>\n",
       "      <td>21.0</td>\n",
       "      <td>8</td>\n",
       "      <td>8</td>\n",
       "      <td>8</td>\n",
       "    </tr>\n",
       "    <tr>\n",
       "      <th>1</th>\n",
       "      <td>13</td>\n",
       "      <td>27.0</td>\n",
       "      <td>11</td>\n",
       "      <td>11</td>\n",
       "      <td>11</td>\n",
       "    </tr>\n",
       "    <tr>\n",
       "      <th>2</th>\n",
       "      <td>14</td>\n",
       "      <td>24.3</td>\n",
       "      <td>13</td>\n",
       "      <td>13</td>\n",
       "      <td>13</td>\n",
       "    </tr>\n",
       "    <tr>\n",
       "      <th>3</th>\n",
       "      <td>15</td>\n",
       "      <td>24.0</td>\n",
       "      <td>14</td>\n",
       "      <td>14</td>\n",
       "      <td>14</td>\n",
       "    </tr>\n",
       "    <tr>\n",
       "      <th>4</th>\n",
       "      <td>17</td>\n",
       "      <td>23.0</td>\n",
       "      <td>17</td>\n",
       "      <td>16</td>\n",
       "      <td>17</td>\n",
       "    </tr>\n",
       "    <tr>\n",
       "      <th>...</th>\n",
       "      <td>...</td>\n",
       "      <td>...</td>\n",
       "      <td>...</td>\n",
       "      <td>...</td>\n",
       "      <td>...</td>\n",
       "    </tr>\n",
       "    <tr>\n",
       "      <th>19966</th>\n",
       "      <td>1641</td>\n",
       "      <td>33.2</td>\n",
       "      <td>1370</td>\n",
       "      <td>1343</td>\n",
       "      <td>1357</td>\n",
       "    </tr>\n",
       "    <tr>\n",
       "      <th>19967</th>\n",
       "      <td>1683</td>\n",
       "      <td>45.0</td>\n",
       "      <td>1224</td>\n",
       "      <td>1185</td>\n",
       "      <td>1204</td>\n",
       "    </tr>\n",
       "    <tr>\n",
       "      <th>19968</th>\n",
       "      <td>1757</td>\n",
       "      <td>44.0</td>\n",
       "      <td>1292</td>\n",
       "      <td>1252</td>\n",
       "      <td>1272</td>\n",
       "    </tr>\n",
       "    <tr>\n",
       "      <th>19969</th>\n",
       "      <td>1860</td>\n",
       "      <td>45.0</td>\n",
       "      <td>1353</td>\n",
       "      <td>1310</td>\n",
       "      <td>1331</td>\n",
       "    </tr>\n",
       "    <tr>\n",
       "      <th>19970</th>\n",
       "      <td>2032</td>\n",
       "      <td>25.3</td>\n",
       "      <td>1883</td>\n",
       "      <td>1873</td>\n",
       "      <td>1878</td>\n",
       "    </tr>\n",
       "  </tbody>\n",
       "</table>\n",
       "<p>19971 rows × 5 columns</p>\n",
       "</div>"
      ],
      "text/plain": [
       "         d1  temp_ac  d1_corr1  d1_corr2  d1_corr\n",
       "0         8     21.0         8         8        8\n",
       "1        13     27.0        11        11       11\n",
       "2        14     24.3        13        13       13\n",
       "3        15     24.0        14        14       14\n",
       "4        17     23.0        17        16       17\n",
       "...     ...      ...       ...       ...      ...\n",
       "19966  1641     33.2      1370      1343     1357\n",
       "19967  1683     45.0      1224      1185     1204\n",
       "19968  1757     44.0      1292      1252     1272\n",
       "19969  1860     45.0      1353      1310     1331\n",
       "19970  2032     25.3      1883      1873     1878\n",
       "\n",
       "[19971 rows x 5 columns]"
      ]
     },
     "execution_count": 13,
     "metadata": {},
     "output_type": "execute_result"
    }
   ],
   "source": [
    "data1.reset_index (drop = True)"
   ]
  },
  {
   "cell_type": "markdown",
   "id": "902418bd-65c3-4a13-9928-b47f201ce787",
   "metadata": {},
   "source": [
    "# D_cor1"
   ]
  },
  {
   "cell_type": "code",
   "execution_count": 21,
   "id": "c1527ca9-9650-4267-a936-cc2e5f70831a",
   "metadata": {},
   "outputs": [],
   "source": [
    "# Assuming columns are named 'Temperature', 'Deflection', 'Corrected_Deflection'\n",
    "T = data['temp_ac']\n",
    "D = data['d1']\n",
    "D_corrected = data['d1_corr1']"
   ]
  },
  {
   "cell_type": "code",
   "execution_count": 29,
   "id": "1902897c-b1d8-4c66-85b5-795fc18b06d4",
   "metadata": {},
   "outputs": [
    {
     "data": {
      "image/png": "[encoded data removed]",
      "text/plain": [
       "<Figure size 640x480 with 1 Axes>"
      ]
     },
     "metadata": {},
     "output_type": "display_data"
    },
    {
     "name": "stdout",
     "output_type": "stream",
     "text": [
      "Equation: D_corrected = 0.8049860001035676 * D + -2.63575623259601 * T + 96.9534291699646\n"
     ]
    }
   ],
   "source": [
    "# Combine T and D into a single array\n",
    "x_data = np.vstack((T, D))\n",
    "\n",
    "# Define the model function with combined input\n",
    "def model(x, a, b, c):\n",
    "    T, D = x\n",
    "    return a * D + b * T + c\n",
    "\n",
    "# Fit the model\n",
    "popt, pcov = curve_fit(model, x_data, D_corrected)\n",
    "\n",
    "# Get the coefficients\n",
    "a, b, c = popt\n",
    "\n",
    "# Predict using the model\n",
    "D_corrected_pred = model(x_data, a, b, c)\n",
    "\n",
    "# Plot the actual vs predicted corrected deflections\n",
    "plt.scatter(D_corrected, D_corrected_pred, label='Predicted vs Actual')\n",
    "plt.xlabel('Actual Corrected Deflection')\n",
    "plt.ylabel('Predicted Corrected Deflection')\n",
    "plt.legend()\n",
    "plt.show()\n",
    "\n",
    "# Print the equation\n",
    "print(f\"Equation: D_corrected = {a} * D + {b} * T + {c}\")\n"
   ]
  },
  {
   "cell_type": "markdown",
   "id": "551776ff-79c5-4c76-a095-9f11dcf138bf",
   "metadata": {},
   "source": [
    "# D_cor2"
   ]
  },
  {
   "cell_type": "code",
   "execution_count": 34,
   "id": "4448eea8-a577-40db-9e9a-0f588f52e81f",
   "metadata": {},
   "outputs": [
    {
     "data": {
      "image/png": "[encoded data removed]",
      "text/plain": [
       "<Figure size 640x480 with 1 Axes>"
      ]
     },
     "metadata": {},
     "output_type": "display_data"
    },
    {
     "name": "stdout",
     "output_type": "stream",
     "text": [
      "Equation: D_corrected = 0.7891335148790908 * D + -2.8257104732431224 * T + 103.98558987157358\n"
     ]
    }
   ],
   "source": [
    "# Assuming columns are named 'Temperature', 'Deflection', 'Corrected_Deflection'\n",
    "T = data['temp_ac']\n",
    "D = data['d1']\n",
    "D_corrected = data['d1_corr2']\n",
    "# Combine T and D into a single array\n",
    "x_data = np.vstack((T, D))\n",
    "\n",
    "# Define the model function with combined input\n",
    "def model(x, a, b, c):\n",
    "    T, D = x\n",
    "    return a * D + b * T + c\n",
    "\n",
    "# Fit the model\n",
    "popt, pcov = curve_fit(model, x_data, D_corrected)\n",
    "\n",
    "# Get the coefficients\n",
    "a, b, c = popt\n",
    "\n",
    "# Predict using the model\n",
    "D_corrected_pred = model(x_data, a, b, c)\n",
    "\n",
    "# Plot the actual vs predicted corrected deflections\n",
    "plt.scatter(D_corrected, D_corrected_pred, label='Predicted vs Actual')\n",
    "plt.xlabel('Actual Corrected Deflection')\n",
    "plt.ylabel('Predicted Corrected Deflection')\n",
    "plt.legend()\n",
    "plt.show()\n",
    "\n",
    "# Print the equation\n",
    "print(f\"Equation: D_corrected = {a} * D + {b} * T + {c}\")"
   ]
  },
  {
   "cell_type": "markdown",
   "id": "c340af46-32fa-47ac-9c42-edf22c172514",
   "metadata": {},
   "source": [
    "# Calculate alpha"
   ]
  },
  {
   "cell_type": "code",
   "execution_count": 36,
   "id": "b4b62e36-d901-4037-b422-e43ccdf7180b",
   "metadata": {},
   "outputs": [
    {
     "name": "stdout",
     "output_type": "stream",
     "text": [
      "Optimized alpha: 0.012684320270038772\n"
     ]
    }
   ],
   "source": [
    "# Assuming columns are named 'Temperature', 'Deflection', 'Corrected_Deflection'\n",
    "T_measured = data['temp_ac']\n",
    "D1_measured = data['d1']\n",
    "D_corrected = data['d1_corr1']\n",
    "\n",
    "# Reference temperature\n",
    "T_reference = 20\n",
    "\n",
    "# Define the model function\n",
    "def model(T_measured, D1_measured, alpha):\n",
    "    return D1_measured * np.exp(alpha * (T_reference - T_measured))\n",
    "\n",
    "# Initial guess for alpha\n",
    "initial_alpha = 0.01\n",
    "\n",
    "# Fit the model to the data to find the best alpha\n",
    "popt, pcov = curve_fit(lambda T_measured, alpha: model(T_measured, D1_measured, alpha), \n",
    "                       T_measured, D_corrected, p0=initial_alpha)\n",
    "\n",
    "# Extract the optimized alpha\n",
    "alpha_opt = popt[0]\n",
    "\n",
    "print(f\"Optimized alpha: {alpha_opt}\")\n"
   ]
  },
  {
   "cell_type": "code",
   "execution_count": 38,
   "id": "929b5b23-7a7b-48ab-abf5-f0717ec917bb",
   "metadata": {},
   "outputs": [
    {
     "name": "stdout",
     "output_type": "stream",
     "text": [
      "Optimized alpha: 0.013906158942918453\n"
     ]
    }
   ],
   "source": [
    "# Assuming columns are named 'Temperature', 'Deflection', 'Corrected_Deflection'\n",
    "T_measured = data['temp_ac']\n",
    "D1_measured = data['d1']\n",
    "D_corrected = data['d1_corr2']\n",
    "\n",
    "# Reference temperature\n",
    "T_reference = 20\n",
    "\n",
    "# Define the model function\n",
    "def model(T_measured, D1_measured, alpha):\n",
    "    return D1_measured * np.exp(alpha * (T_reference - T_measured))\n",
    "\n",
    "# Initial guess for alpha\n",
    "initial_alpha = 0.01\n",
    "\n",
    "# Fit the model to the data to find the best alpha\n",
    "popt, pcov = curve_fit(lambda T_measured, alpha: model(T_measured, D1_measured, alpha), \n",
    "                       T_measured, D_corrected, p0=initial_alpha)\n",
    "\n",
    "# Extract the optimized alpha\n",
    "alpha_opt = popt[0]\n",
    "\n",
    "print(f\"Optimized alpha: {alpha_opt}\")\n"
   ]
  },
  {
   "cell_type": "code",
   "execution_count": null,
   "id": "2e0a5270-5f88-49e5-a5a8-3595638a96bc",
   "metadata": {},
   "outputs": [],
   "source": []
  }
 ],
 "metadata": {
  "kernelspec": {
   "display_name": "Python 3 (ipykernel)",
   "language": "python",
   "name": "python3"
  },
  "language_info": {
   "codemirror_mode": {
    "name": "ipython",
    "version": 3
   },
   "file_extension": ".py",
   "mimetype": "text/x-python",
   "name": "python",
   "nbconvert_exporter": "python",
   "pygments_lexer": "ipython3",
   "version": "3.12.4"
  }
 },
 "nbformat": 4,
 "nbformat_minor": 5
}
