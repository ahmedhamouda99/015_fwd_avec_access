{
 "cells": [
  {
   "cell_type": "markdown",
   "id": "0feebe6e",
   "metadata": {},
   "source": [
    "# Used code to upload data from database file after processing by ELMOD"
   ]
  },
  {
   "cell_type": "code",
   "execution_count": 13,
   "id": "4c6d5a19",
   "metadata": {},
   "outputs": [
    {
     "name": "stderr",
     "output_type": "stream",
     "text": [
      "C:\\Users\\Khaled Ahmed\\AppData\\Local\\Temp\\ipykernel_32200\\1817268556.py:28: UserWarning: pandas only supports SQLAlchemy connectable (engine/connection) or database string URI or sqlite3 DBAPI2 connection. Other DBAPI2 objects are not tested. Please consider using SQLAlchemy.\n",
      "  df = pd.read_sql(query, connection)\n",
      "C:\\Users\\Khaled Ahmed\\AppData\\Local\\Temp\\ipykernel_32200\\1817268556.py:28: UserWarning: pandas only supports SQLAlchemy connectable (engine/connection) or database string URI or sqlite3 DBAPI2 connection. Other DBAPI2 objects are not tested. Please consider using SQLAlchemy.\n",
      "  df = pd.read_sql(query, connection)\n",
      "C:\\Users\\Khaled Ahmed\\AppData\\Local\\Temp\\ipykernel_32200\\1817268556.py:28: UserWarning: pandas only supports SQLAlchemy connectable (engine/connection) or database string URI or sqlite3 DBAPI2 connection. Other DBAPI2 objects are not tested. Please consider using SQLAlchemy.\n",
      "  df = pd.read_sql(query, connection)\n",
      "C:\\Users\\Khaled Ahmed\\AppData\\Local\\Temp\\ipykernel_32200\\1817268556.py:28: UserWarning: pandas only supports SQLAlchemy connectable (engine/connection) or database string URI or sqlite3 DBAPI2 connection. Other DBAPI2 objects are not tested. Please consider using SQLAlchemy.\n",
      "  df = pd.read_sql(query, connection)\n",
      "C:\\Users\\Khaled Ahmed\\AppData\\Local\\Temp\\ipykernel_32200\\1817268556.py:28: UserWarning: pandas only supports SQLAlchemy connectable (engine/connection) or database string URI or sqlite3 DBAPI2 connection. Other DBAPI2 objects are not tested. Please consider using SQLAlchemy.\n",
      "  df = pd.read_sql(query, connection)\n"
     ]
    }
   ],
   "source": [
    "import pandas as pd\n",
    "import pyodbc\n",
    "import os\n",
    "import re\n",
    "from tkinter import simpledialog\n",
    "\n",
    "batch_no = simpledialog.askinteger (title= \"Batch No\", prompt= \"Please enter the batch no:\")\n",
    "\n",
    "# Location of the access file\n",
    "mdb_file = r\"C:\\Users\\Khaled Ahmed\\Desktop\\fwd_analysis_ASH\\003_Databases\\anaylsis_ash_08-2024_batch_1.mde\"\n",
    "        \n",
    "# Create a connection string\n",
    "conn_string = (\n",
    "    r'DRIVER={Microsoft Access Driver (*.mdb, *.accdb)};'\n",
    "    r'DBQ=' + mdb_file + ';'\n",
    "        )\n",
    "        \n",
    "# The tables\n",
    "table_name_list = ['Deflections', 'GPS', 'MODULI_ESTIMATED', 'Thickness', 'Materials']\n",
    "df_access_dict = {}\n",
    "        \n",
    "# Create connection\n",
    "with pyodbc.connect(conn_string) as connection:\n",
    "    cursor = connection.cursor()\n",
    "    try:\n",
    "        for table in table_name_list:\n",
    "            query = f'SELECT * FROM {table}'\n",
    "            df = pd.read_sql(query, connection)\n",
    "            df['batch_no'] = batch_no\n",
    "            df_access_dict[table] = df\n",
    "\n",
    "    finally:\n",
    "        cursor.close()\n",
    "\n",
    "\n"
   ]
  },
  {
   "cell_type": "markdown",
   "id": "b1a6e9ab",
   "metadata": {},
   "source": [
    "# Used code to upload data to database"
   ]
  },
  {
   "cell_type": "code",
   "execution_count": 15,
   "id": "de4fc541",
   "metadata": {},
   "outputs": [],
   "source": [
    "#To upload the data to the database \n",
    "from sqlalchemy import create_engine\n",
    "user = 'postgres'\n",
    "password = 'mjesbb51187'\n",
    "database = 'elmod_db'\n",
    "host = 'localhost'\n",
    "port = '5432'\n",
    "\n",
    "engine = create_engine (f'postgresql://{user}:{password}@{host}:{port}/{database}')\n",
    "\n",
    "df_dict = {\n",
    "    'deflections': df_access_dict['Deflections'],\n",
    "    'gps': df_access_dict['GPS'],\n",
    "    'moduli':df_access_dict['MODULI_ESTIMATED'],\n",
    "    'thickness':df_access_dict['Thickness'],\n",
    "    'materials':df_access_dict['Materials'],\n",
    "} \n",
    "\n",
    "with engine.connect() as connection:\n",
    "    for table_name,df_db in df_dict.items():\n",
    "        df_db.to_sql (table_name, connection , if_exists = 'append', index = False)"
   ]
  },
  {
   "cell_type": "code",
   "execution_count": null,
   "id": "e8fd71df",
   "metadata": {},
   "outputs": [],
   "source": []
  }
 ],
 "metadata": {
  "kernelspec": {
   "display_name": "Python 3 (ipykernel)",
   "language": "python",
   "name": "python3"
  },
  "language_info": {
   "codemirror_mode": {
    "name": "ipython",
    "version": 3
   },
   "file_extension": ".py",
   "mimetype": "text/x-python",
   "name": "python",
   "nbconvert_exporter": "python",
   "pygments_lexer": "ipython3",
   "version": "3.12.4"
  }
 },
 "nbformat": 4,
 "nbformat_minor": 5
}
