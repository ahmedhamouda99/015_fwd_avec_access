{
 "cells": [
  {
   "cell_type": "code",
   "execution_count": 15,
   "id": "e7e43fbd",
   "metadata": {},
   "outputs": [],
   "source": [
    "import pandas as pd\n",
    "import os"
   ]
  },
  {
   "cell_type": "code",
   "execution_count": 33,
   "id": "75805f91",
   "metadata": {},
   "outputs": [],
   "source": [
    "folder_path = r\"C:\\Users\\Khaled Ahmed\\Desktop\\fwd_analysis_ASH\\004_Analysis_ASH\\012_Batch__13\"\n",
    "save_folder = r\"C:\\Users\\Khaled Ahmed\\Desktop\\fwd_analysis_ASH\\005_combined_files_after_analysis\\002_batch_13\"\n",
    "list_of_files = os.listdir (folder_path)\n",
    "for file in list_of_files:\n",
    "    if file[-4:] == \"xlsx\":\n",
    "        file_path = os.path.join(folder_path, file)\n",
    "        df_rawdata = pd.read_excel (file_path, sheet_name = \"Raw Data\", skiprows = 2)\n",
    "        df_backcal = pd.read_excel (file_path, sheet_name= \"Backcalculation\", skiprows= 2)\n",
    "        for column in df_rawdata:\n",
    "            if column[0:8] == \"Unnamed:\":\n",
    "                df_rawdata.drop (columns = column, inplace = True)\n",
    "        for column in df_backcal:\n",
    "            if column[0:8] == \"Unnamed:\":\n",
    "                df_backcal.drop (columns = column, inplace = True)\n",
    "        df_backcal.drop (columns = ['Section', 'Chainage', 'C', 'n', 'Bedrock', 'Asp.Temp.', 'E2ref', 'E3ref',\n",
    "               'E4ref', 'E5ref','D1', 'D2', 'D3', 'D4', 'D5', 'D6',\n",
    "               'D7', 'D8', 'D9'], inplace = True )\n",
    "        df_backcal.rename (columns = {\"E1ref\": \"e1_ref\"}, inplace = True)\n",
    "\n",
    "        df_combined = pd.concat ([df_rawdata, df_backcal], axis = 1)\n",
    "        save_file_path = os.path.join (save_folder,file)\n",
    "        df_combined.to_excel (save_file_path, index = False)"
   ]
  },
  {
   "cell_type": "code",
   "execution_count": null,
   "id": "a8266c93",
   "metadata": {},
   "outputs": [],
   "source": []
  }
 ],
 "metadata": {
  "kernelspec": {
   "display_name": "Python 3 (ipykernel)",
   "language": "python",
   "name": "python3"
  },
  "language_info": {
   "codemirror_mode": {
    "name": "ipython",
    "version": 3
   },
   "file_extension": ".py",
   "mimetype": "text/x-python",
   "name": "python",
   "nbconvert_exporter": "python",
   "pygments_lexer": "ipython3",
   "version": "3.12.4"
  }
 },
 "nbformat": 4,
 "nbformat_minor": 5
}
